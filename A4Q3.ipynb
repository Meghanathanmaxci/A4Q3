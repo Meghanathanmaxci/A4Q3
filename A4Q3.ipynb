{
 "cells": [
  {
   "cell_type": "markdown",
   "id": "1c7da98c",
   "metadata": {},
   "source": [
    "# WPP to square the elements of a list using map() functions.    Sample input = [4,5,2,9]....Expected output = [16,25,4,81]"
   ]
  },
  {
   "cell_type": "code",
   "execution_count": 2,
   "id": "ed3247ad",
   "metadata": {},
   "outputs": [
    {
     "name": "stdout",
     "output_type": "stream",
     "text": [
      "The square of given number is =  [16, 25, 4, 81]\n"
     ]
    }
   ],
   "source": [
    "l = [4,5,2,9]\n",
    "def square(num):\n",
    "    return (num**2)\n",
    "values = list(map(square,l))\n",
    "print('The square of given number is = ',values)"
   ]
  },
  {
   "cell_type": "code",
   "execution_count": null,
   "id": "c30c8abd",
   "metadata": {},
   "outputs": [],
   "source": []
  }
 ],
 "metadata": {
  "kernelspec": {
   "display_name": "Python 3 (ipykernel)",
   "language": "python",
   "name": "python3"
  },
  "language_info": {
   "codemirror_mode": {
    "name": "ipython",
    "version": 3
   },
   "file_extension": ".py",
   "mimetype": "text/x-python",
   "name": "python",
   "nbconvert_exporter": "python",
   "pygments_lexer": "ipython3",
   "version": "3.9.7"
  }
 },
 "nbformat": 4,
 "nbformat_minor": 5
}
